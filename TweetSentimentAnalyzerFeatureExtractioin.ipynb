{
 "cells": [
  {
   "cell_type": "code",
   "execution_count": null,
   "metadata": {
    "colab": {
     "base_uri": "https://localhost:8080/"
    },
    "id": "v8WNpho9hTnl",
    "outputId": "443f216a-f4ff-40b9-e591-95feb771bf47"
   },
   "outputs": [],
   "source": [
    "!pip install datasets"
   ]
  },
  {
   "cell_type": "markdown",
   "metadata": {
    "id": "7EQMkOt-5oYP"
   },
   "source": [
    "Load the dataset available in hugging face containing all the labeled set of emotions"
   ]
  },
  {
   "cell_type": "code",
   "execution_count": null,
   "metadata": {
    "colab": {
     "base_uri": "https://localhost:8080/",
     "height": 368,
     "referenced_widgets": [
      "a03c827b7a1d45a8afe44ff0915e64af",
      "48d6708ffd0a413fbc0f52a8f487c893",
      "1a76308e37d748519942d2a343d3c4c1",
      "0504e256ddc14d10a102b89d472d2958",
      "5380f6552b3f4cadb7944271dee2c48c",
      "857dc8c101af4179b99a7ad2af3248f9",
      "fd4b949650e74033b34d55a6dea290c2",
      "73615f2941b847cea541b241b8f6b4fe",
      "4489cc18676f4a7d898ec12d978d1e56",
      "8515b98939824cf38eea2e4e46e339a3",
      "eef2d71241c64af6b8333d00b5703ff3",
      "3401b65132c140bfa3a6416c0e566de8",
      "1912c0a3a6b648fc8853db2b7099ba1d",
      "aeda6cb5737d4dfab8ed0296eb350043",
      "e575209eadd94c248fbe8379a3119036",
      "869076f8169346fba9b04ab4ba3d95fd",
      "1e59c2d72f6f418e868779488a269caf",
      "495d9824d43b4efeaabe31e3bffe1b95",
      "620dc50eb4054f04a4065219122647f0",
      "bcd73d88ec114fc886a9293c9b4334dc",
      "a77fe747f6b947cd81fddd0707587918",
      "cbbacb3032d94b07b48b7358ea4c0c2f",
      "266613ba08134de3b40923d2528aa907",
      "226be3bc229742d5813ef3336a083c01",
      "c2f831c499e3439d9307490efd953c04",
      "082322ee71604d00adb7810d120e6917",
      "1a2f071f847f4888988095fb071c4a8a",
      "0707bf2d32e54bb6ab70e7fec8f65f46",
      "65b27a47cda74ad796b03cfdc4076ab6",
      "e4bb8cc2cd3a4a8684842c0a05230faf",
      "7414b902a5d4420987d752cfaaac330e",
      "1638c9dd994d4fdbb829216637a62927",
      "7213626856d948d0a98df015398a45a5",
      "264bd3b3fa2642369c570f9b677e5b3c",
      "f02696a2c29a42b0a5d4a87b6339e0f2",
      "acd27119258f41989472eeb1046897ec",
      "94bab37ef4524a8f85804ee4970ff9a3",
      "fe7bd58a82144b03990a6038f008e283",
      "45d345d6fbe3472e9f70724bf7a6f659",
      "247995a84592428caf2a69f52fc50651",
      "814982999daa4e249df2174062056454",
      "f708d08bd8e94019b438cce6a38a3c06",
      "8dd920780ed64a63b8b7244c2e480e93",
      "b77818406fba41199451cdbb854b81e5",
      "344adcdbf6ed4c29a9deb5fcf103adaa",
      "3228329cc8204f619a48c6894795b1ab",
      "f8b03a0dce1b47d9abd9d45777ce728c",
      "017cd414d7dd4c9e9d9fabcad9f8f166",
      "b9bdb5c9041448a79987831652bcf895",
      "d6b6b885be3e4b67b7abe99f1583caf9",
      "134186549a334affbab28f9ae2832fc0",
      "e439e786bc4d42f18b4b33a0e9cf6ac2",
      "897ddee8cb4b436a8b9f0d459bab6d2c",
      "195a6b299b254da5ab6315e8e000d906",
      "9c3bb65ecd4045ecbca80fcd8a412678",
      "d40a289e6212434a809c09db44b6ab9d",
      "d753477d9cad4a95a5472607f47d9a8a",
      "2379008e2ba046dc8afeee99e54311c0",
      "e8a0b3be57784af09cbbc49b1c8200c1",
      "28aebb7ed5464a34a373061d5426a991",
      "ca220060fcfc40efa8fbb74e6cdef5e7",
      "9d786226d72947b0b51f92a920a5e65c",
      "74ae488936744851a7054bfc3c4f59cd",
      "f7748d3d81754132bb6417c013785930",
      "e31cc7c0659f4f63935cb9b703b91dcd",
      "3ee273cbf1bc49e0a47d9f59058879a1",
      "f881c79b69b64873b98f9578d2c74cec",
      "045100efeb564d17b44a16b901e5b8f4",
      "60ce3011e1fe45bf9177ff2dd125bdf2",
      "7a78112f19ce4dbb9142a4f787cd4eef",
      "23113c955e964755849f1d4efdb3da6f",
      "4a431f7ccd8e4c78aef72459e58a84ab",
      "77d6df75f0864701a8da0b84a609dbaf",
      "2cf596f1eb9d497b926e40d68ead3b0a",
      "d5dfc1e1643240aaa24845c144a5950e",
      "a237b45ffaa8409dae421358dbe060cd",
      "6286942f5f084851bb5b277e89b803ce"
     ]
    },
    "id": "9JyICnEhtmJA",
    "outputId": "f662a39d-0eaa-429e-8331-cf8dc192d905"
   },
   "outputs": [],
   "source": [
    "from datasets import load_dataset\n",
    "\n",
    "emotions = load_dataset(\"emotion\")\n"
   ]
  },
  {
   "cell_type": "code",
   "execution_count": null,
   "metadata": {
    "colab": {
     "base_uri": "https://localhost:8080/"
    },
    "id": "r0g1rxp_t4gD",
    "outputId": "df9ca1cd-b50c-44ab-f8fc-1d5324634dd2"
   },
   "outputs": [],
   "source": [
    "print(emotions)"
   ]
  },
  {
   "cell_type": "code",
   "execution_count": null,
   "metadata": {
    "colab": {
     "base_uri": "https://localhost:8080/"
    },
    "id": "JU-zy7SnuDLu",
    "outputId": "d6c568ec-e60f-4e26-c9c1-f6c3793b0c2b"
   },
   "outputs": [],
   "source": [
    "training_ds = emotions[\"train\"]\n",
    "print(training_ds[0])"
   ]
  },
  {
   "cell_type": "markdown",
   "metadata": {
    "id": "i2FJcCW26DPg"
   },
   "source": [
    "Analyze the dataset using pandas to check the split of all emotions to prevent overtraining on just a single emotion"
   ]
  },
  {
   "cell_type": "code",
   "execution_count": null,
   "metadata": {
    "colab": {
     "base_uri": "https://localhost:8080/",
     "height": 206
    },
    "id": "U31pDl_oudiL",
    "outputId": "01be0c96-f438-47c4-dd31-3364fbd19774"
   },
   "outputs": [],
   "source": [
    "import pandas as pd\n",
    "\n",
    "emotions.set_format(type=\"pandas\")\n",
    "df = emotions[\"train\"][:]\n",
    "df.head()"
   ]
  },
  {
   "cell_type": "markdown",
   "metadata": {
    "id": "E2dwVJJl6yJP"
   },
   "source": [
    "It can be noticed that the labels are numbers which correspond to an emotion. The int2str method can be used to retrive the label names behind each label integer"
   ]
  },
  {
   "cell_type": "code",
   "execution_count": null,
   "metadata": {
    "colab": {
     "base_uri": "https://localhost:8080/",
     "height": 206
    },
    "id": "Zs6-0_SOultB",
    "outputId": "1026d74b-2321-4aca-e3c0-62d44bb30638"
   },
   "outputs": [],
   "source": [
    "def label_int2str(row):\n",
    "  return training_ds.features[\"label\"].int2str(row)\n",
    "\n",
    "df[\"label_name\"] = df[\"label\"].apply(label_int2str)\n",
    "df.head()"
   ]
  },
  {
   "cell_type": "markdown",
   "metadata": {
    "id": "TvU2E65GAptF"
   },
   "source": [
    "The below plot can be used to the frequency of each emotion. It can be noticed that there is an imbalance in the class frequency. This could the lead the model to be overtrained in certian emotions compared to others."
   ]
  },
  {
   "cell_type": "code",
   "execution_count": null,
   "metadata": {
    "colab": {
     "base_uri": "https://localhost:8080/",
     "height": 452
    },
    "id": "_Pf7qo3wvbVF",
    "outputId": "fb670cf4-a40d-4173-9354-1432bcfe2e33"
   },
   "outputs": [],
   "source": [
    "import matplotlib.pyplot as plt\n",
    "\n",
    "df[\"label_name\"].value_counts(ascending=True).plot.barh()\n",
    "plt.title(\"Class Frequency\")\n",
    "plt.show()"
   ]
  },
  {
   "cell_type": "markdown",
   "metadata": {
    "id": "maDD3jEDBppz"
   },
   "source": [
    "All models have a limit for the number of tokens that can be passed it. This box chart can help find the average number of tokens per tweet"
   ]
  },
  {
   "cell_type": "code",
   "execution_count": null,
   "metadata": {
    "colab": {
     "base_uri": "https://localhost:8080/",
     "height": 443
    },
    "id": "LIiJ_hbcvqqL",
    "outputId": "ab7e2185-a054-47fe-d856-2589f24ae44b"
   },
   "outputs": [],
   "source": [
    "df[\"Words Per Tweet\"] = df[\"text\"].str.split().apply(len)\n",
    "df.boxplot(\"Words Per Tweet\", by=\"label_name\", grid=False,\n",
    "showfliers=False, color=\"black\")\n",
    "plt.suptitle(\"\")\n",
    "plt.xlabel(\"\")\n",
    "plt.show()"
   ]
  },
  {
   "cell_type": "code",
   "execution_count": null,
   "metadata": {
    "id": "HT6ZGNnQv4SV"
   },
   "outputs": [],
   "source": [
    "emotions.reset_format()"
   ]
  },
  {
   "cell_type": "markdown",
   "metadata": {
    "id": "08V5bgULK2DN"
   },
   "source": [
    "Import the tokenizer which was trained with the model used (distilbert-base-uncased), this prevents any confusion with the vocabulary as each model's tokenizer is different and could lead to confusion with vocabulary."
   ]
  },
  {
   "cell_type": "code",
   "execution_count": null,
   "metadata": {
    "colab": {
     "base_uri": "https://localhost:8080/",
     "height": 145,
     "referenced_widgets": [
      "8c15b4bfca604c208e758b9d103c08e3",
      "bc3d326ec4124da4a21bf583221e10be",
      "44dc7b3eb96849d3aa151f62c2041369",
      "7007c7c3feba4627b54bcff16bcf7e5c",
      "a08c297fbaf44e1fb6e442acfe161e88",
      "b6e9075509914ce18dc83fd3ad513bb6",
      "30440524a88a446781a93d88ffaa8751",
      "046f075e47f24169b397e6f91611a54e",
      "a9cd924de0ad47e39f85f7b9cbad039e",
      "55f50b2b34f54702aa4f7b5246bfe2ae",
      "7bad31e1dc7f44d0b524b045dd352178",
      "c9c63844c0fa45af86d6d08d0461aad3",
      "6861db0bb0854977899af63016ca11b7",
      "97a1087f686a449aaad619805947e261",
      "302e4f9a8b5f49c088b6519123eb1af4",
      "ce4eb3ce955548a898a7c4eaa8bc87bc",
      "90da3c819ae34daba7148a2c852d5a4c",
      "02307bbed83c4e36883a06e24de27020",
      "f02ea1ed4a004151afe71af59ed7caec",
      "b8de87616de948be9ee04e1d21eee3d9",
      "3eea492af68d4bfba50f98a80863dfa7",
      "b0582ee385ef470dbabc45e10417db49",
      "2604387136e24cfe87acba5fc627ee5e",
      "44905055b16e4079b5d723b8039e3a72",
      "39c2ee9b255d437b8365f16c73bc1554",
      "92d4d83e6d4e44d7a4eed69f26fbed13",
      "625f58865fe14ff2a6b5cd50bd6eaaa7",
      "eb5c05b68bf84db9be6fbf2cff1f8886",
      "f1cb384a3cf846e6a545a1ea8d344689",
      "65c2431c6ae54869a2489ee2924c4de3",
      "84f3566f655f4f6bab641fe9f5ef8914",
      "516a55f795794d2e88c9c07a6f5f31cf",
      "6410b2dcd66a4568b43697763b2d5cf4",
      "a9f66e37e5e240a8b5ca74965ad5ddfe",
      "fbd52753e32f476cb4ae6a221bd35272",
      "1f053ed4a2c9423fae8fc47a3e0e1c5d",
      "c728edfeadb8472886ccd6c5c49eb669",
      "e980e8494f8a4072a11ee2c339cd80b6",
      "5761ff19ec0f4ec18ecb8505246d36af",
      "f39ae418e2d5499199421f61f1a76572",
      "755d4e6df95f4bb48dd3ef9f27ca8ee8",
      "238ed70c421c4d059749a9ce4df8b64c",
      "c74caf5e160f4120bc911dcbcd0bdb9c",
      "d4051914ed4440b1aec82e41f48bff5b"
     ]
    },
    "id": "k5re0lSifsRU",
    "outputId": "6a20d4ee-6725-48a4-aabe-875b9161d5d2"
   },
   "outputs": [],
   "source": [
    "from transformers import AutoTokenizer\n",
    "\n",
    "model_ckpt = \"distilbert-base-uncased\"\n",
    "tokenizer = AutoTokenizer.from_pretrained(model_ckpt)"
   ]
  },
  {
   "cell_type": "code",
   "execution_count": null,
   "metadata": {
    "id": "_3j1nkkZf5Z2"
   },
   "outputs": [],
   "source": [
    "def tokenize(batch):\n",
    "  return tokenizer(batch[\"text\"], padding=True, truncation=True)"
   ]
  },
  {
   "cell_type": "code",
   "execution_count": null,
   "metadata": {
    "colab": {
     "base_uri": "https://localhost:8080/",
     "height": 113,
     "referenced_widgets": [
      "5f44427216de4dafabb0fa5584eefbec",
      "ab6fe7077e63465d99d340b3e75163d7",
      "f2fba4872bd4402db03f056d3e32aba3",
      "06a84ede3f454a1497aa3ca393aa108d",
      "35d98ffa81dc46d591ce9c67e6ba19c2",
      "161100b8b6eb4e5ca87c0c3a6f150ce0",
      "2ee47b2561a34027b78f52f69a89f17e",
      "ffa44e87f3544cb6b02ab22332f69de1",
      "7c4013cb824043efbc73496e8efacd44",
      "40a1ce7d136c49b1b7af20948a53749f",
      "88f09aedce874c28884b0f1e9b522051",
      "64df20ddf07449d1b50c98b959a665af",
      "6e2539be39ca47558ed751c2e33d0434",
      "bf2e01858c0e449d855952c0f5b25153",
      "0038488e1f324c4fb9edf51feca0c1bd",
      "10a463fcb67e4734af2e785de2ab1f3e",
      "2feef70f668a4bcebc99e5f182e85622",
      "4e788ed43cd549d1aa230aaf1e15f099",
      "5230b7f9b37f49d5a91fb82cf8e1bb96",
      "7b47c330fd8c4d57888f27017d86e7af",
      "834ec6bfb9ce4320b2c722a731481f05",
      "79b49601519840628cce4db7bb6cffe0",
      "dd56c54c79b14598a0e0e7bef5de180e",
      "69771f30d5b6457da18e88c5ad6ba50f",
      "c929c55611f543d8bc2d8984e6046835",
      "1227636b839d497cb86c0d8492614d1c",
      "8642b1937bba4f2e953e0ffe6c605202",
      "c03049b638af4b4e9514893b070b6125",
      "178fc7644e5d4ee0a074c6116d920b5b",
      "eda3e92c3f434c2aab98c2090e6c2d5f",
      "79bf61dcfbcb4c9eb4b68ab831376215",
      "51ef7ea853d84e729e6c9b58b61f64da",
      "347e45657c9c41f0a06d076c31fc6a81"
     ]
    },
    "id": "XkAOFhIOhCEW",
    "outputId": "e12176a8-bdcb-4c69-a096-f1387e539b54"
   },
   "outputs": [],
   "source": [
    "emotions_encoded = emotions.map(tokenize, batched=True, batch_size=None)"
   ]
  },
  {
   "cell_type": "code",
   "execution_count": null,
   "metadata": {
    "colab": {
     "base_uri": "https://localhost:8080/"
    },
    "id": "vaPWW4BJspyH",
    "outputId": "d307bae2-5872-4b4b-deaf-fde5449a32f1"
   },
   "outputs": [],
   "source": [
    "print(emotions_encoded[\"train\"].column_names)"
   ]
  },
  {
   "cell_type": "code",
   "execution_count": null,
   "metadata": {
    "colab": {
     "base_uri": "https://localhost:8080/"
    },
    "id": "b7R4MLA5szLo",
    "outputId": "db1b2728-5d32-48de-9faa-1672a05c3fa3"
   },
   "outputs": [],
   "source": [
    "!pip install transformers\n"
   ]
  },
  {
   "cell_type": "code",
   "execution_count": null,
   "metadata": {
    "colab": {
     "base_uri": "https://localhost:8080/",
     "height": 105,
     "referenced_widgets": [
      "2fd8b9b6b9ba4118ae9ada9edd2d4b26",
      "797115f13b314bf2b68300e44bda3b33",
      "03d550499549433b8d320ac17bcc804c",
      "bf77415f03c442fbb2eb540656da3076",
      "848be4fcf41c46a19b416ae04c0f9ac0",
      "d106c5792a844384b0fe51a1ca1d4e41",
      "050636c4b8f94b288e3b56867136bdcc",
      "a8a46e9c38074a149810f3ec19bff247",
      "209aa2038cfd44ed8e8d0632c689fa5e",
      "7cbbdd1b27094e02be0f4b71fa7970dc",
      "45ad4d7518b7495ca01b2d2a21316b70"
     ]
    },
    "id": "fQT04npds3GH",
    "outputId": "c69ffd9c-301d-42a2-e610-47bed550b764"
   },
   "outputs": [],
   "source": [
    "from transformers import AutoModel\n",
    "import torch\n",
    "model_ckpt = \"distilbert-base-uncased\"\n",
    "device = torch.device(\"cuda\" if torch.cuda.is_available() else \"cpu\")\n",
    "model = AutoModel.from_pretrained(model_ckpt).to(device)"
   ]
  },
  {
   "cell_type": "code",
   "execution_count": null,
   "metadata": {
    "id": "dVjvFGGDvJ2S"
   },
   "outputs": [],
   "source": [
    "def extract_hidden_states(batch):\n",
    "  inputs = {k:v.to(device) for k,v in batch.items() if k in tokenizer.model_input_names}\n",
    "  with torch.no_grad():\n",
    "    last_hidden_state = model(**inputs).last_hidden_state\n",
    "  return {\"hidden_state\": last_hidden_state[:,0].cpu().numpy()}"
   ]
  },
  {
   "cell_type": "code",
   "execution_count": null,
   "metadata": {
    "id": "2LL10xBG3vz4"
   },
   "outputs": [],
   "source": [
    "emotions_encoded.set_format(\"torch\",\n",
    "columns=[\"input_ids\", \"attention_mask\", \"label\"])"
   ]
  },
  {
   "cell_type": "code",
   "execution_count": null,
   "metadata": {
    "colab": {
     "base_uri": "https://localhost:8080/",
     "height": 113,
     "referenced_widgets": [
      "02bd629331654448a359a642740a7f08",
      "30dc2d1e72a441f6a0ad788dbb047d22",
      "c6d02de79cc44506a141923bc2dfb890",
      "2c731a7d849d4554a2724d3de066af75",
      "0dd7b8507248415d93be829fcd2c49ae",
      "92b845dfbe56405ca2a4c75b9d9a8497",
      "b653abfe5ded4088aa47413168a0885a",
      "77964fdfb4d6415e968d24582a40d9e7",
      "268a83a9f28d4a95bb9b44c47050f13a",
      "5d6d9ed40eb148b29a26c2ff562f64ab",
      "399aeffb86ef4b2ba06df3aec6d9293c",
      "3c88e15e85514eff8b4f174fb7ab088f",
      "948e8277ed1342dabb9d616efbad0c48",
      "5a6edaee6d8949dbb2c42e1918e4d80a",
      "219da61be831416e97f400984ff4e5e1",
      "fc2691de2b234d47b1406badc859fb32",
      "3b99bcd6232b4e7a8053124a54823607",
      "3c73691f90d64b119350c514d1285c4b",
      "7c47f08efdd74f8890847072a6949b9c",
      "8203f9db12b84d1288b131b3fadb1237",
      "47682373602948b6ac191e2ef805a27a",
      "ccc07aabee8c495ebbba1efdc7a8a31c",
      "5bd970110ece420ba0d737655caf6626",
      "ae9406f35bb74286a98bec09efce97c3",
      "43361000038748b5bfdbd1c0416a5cc1",
      "fb1ff0b460394711b57ca49a0b99a8ff",
      "e1765b742a66483f815a748de38d8390",
      "9d7ba4fe088d4db5acb15365d1682545",
      "a07166bdd974433a8404fa5f53ea67ba",
      "4367fbe5f8c145bdbbeac1e7047bb0c4",
      "c2cab657c9794acbada7f3f0b574800d",
      "1b8cdbbc277d419089516f579f67a209",
      "f194d4619dd94c90a47b7f2348018ddb"
     ]
    },
    "id": "SjW2bEGq4cKw",
    "outputId": "170263f0-04a9-4392-87da-3d8d9f569bcc"
   },
   "outputs": [],
   "source": [
    "emotions_hidden = emotions_encoded.map(extract_hidden_states, batched=True)"
   ]
  },
  {
   "cell_type": "code",
   "execution_count": null,
   "metadata": {
    "colab": {
     "base_uri": "https://localhost:8080/"
    },
    "id": "3qu-7k8-H0O5",
    "outputId": "9ba3379b-f949-4001-fcee-1dc5a8182276"
   },
   "outputs": [],
   "source": [
    "emotions_hidden[\"train\"].column_names"
   ]
  },
  {
   "cell_type": "code",
   "execution_count": null,
   "metadata": {
    "colab": {
     "base_uri": "https://localhost:8080/"
    },
    "id": "5qvetoc4H9g0",
    "outputId": "3fcfc6a9-28a3-4729-9c2a-15b3fff37445"
   },
   "outputs": [],
   "source": [
    "import numpy as np\n",
    "X_train = np.array(emotions_hidden[\"train\"][\"hidden_state\"])\n",
    "X_valid = np.array(emotions_hidden[\"validation\"][\"hidden_state\"])\n",
    "y_train = np.array(emotions_hidden[\"train\"][\"label\"])\n",
    "y_valid = np.array(emotions_hidden[\"validation\"][\"label\"])\n",
    "X_train.shape, X_valid.shape"
   ]
  },
  {
   "cell_type": "code",
   "execution_count": null,
   "metadata": {
    "colab": {
     "base_uri": "https://localhost:8080/",
     "height": 262
    },
    "id": "ewO2KIqoIANP",
    "outputId": "001129d3-2520-4e07-c47c-edcff9b82f9b"
   },
   "outputs": [],
   "source": [
    "from umap import UMAP\n",
    "from sklearn.preprocessing import MinMaxScaler\n",
    "X_scaled = MinMaxScaler().fit_transform(X_train)\n",
    "mapper = UMAP(n_components=2, metric=\"cosine\").fit(X_scaled)\n",
    "df_emb = pd.DataFrame(mapper.embedding_, columns=[\"X\", \"Y\"])\n",
    "df_emb[\"label\"] = y_train\n",
    "df_emb.head()"
   ]
  },
  {
   "cell_type": "markdown",
   "metadata": {
    "id": "BHQPCfXPMKC3"
   },
   "source": [
    "The hex plot below can help visually recoginze the regions occupied by each emotion. It can be noticed that sadness, anger and fear occupy pretty much the same region whereas, joy and love occupy similar regions away from the negative emotions."
   ]
  },
  {
   "cell_type": "code",
   "execution_count": null,
   "metadata": {
    "colab": {
     "base_uri": "https://localhost:8080/",
     "height": 507
    },
    "id": "esyLZn_DJzWR",
    "outputId": "a21f469c-49a8-40f8-b4c4-2ab80f845204"
   },
   "outputs": [],
   "source": [
    "fig, axes = plt.subplots(2, 3, figsize=(7,5))\n",
    "axes = axes.flatten()\n",
    "cmaps = [\"Greys\", \"Blues\", \"Oranges\", \"Reds\", \"Purples\", \"Greens\"]\n",
    "labels = emotions[\"train\"].features[\"label\"].names\n",
    "for i, (label, cmap) in enumerate(zip(labels, cmaps)):\n",
    "  df_emb_sub = df_emb.query(f\"label == {i}\")\n",
    "  axes[i].hexbin(df_emb_sub[\"X\"], df_emb_sub[\"Y\"], cmap=cmap, gridsize=20, linewidths=(0,))\n",
    "  axes[i].set_title(label)\n",
    "  axes[i].set_xticks([]), axes[i].set_yticks([])\n",
    "plt.tight_layout()\n",
    "plt.show()"
   ]
  },
  {
   "cell_type": "code",
   "execution_count": null,
   "metadata": {
    "colab": {
     "base_uri": "https://localhost:8080/"
    },
    "id": "JUz7llbzKCcw",
    "outputId": "21a11590-8382-430e-b02b-37a3548db56f"
   },
   "outputs": [],
   "source": [
    "from sklearn.linear_model import LogisticRegression\n",
    "lr_clf = LogisticRegression(max_iter=3000)\n",
    "lr_clf.fit(X_train, y_train)\n",
    "lr_clf.score(X_valid, y_valid)"
   ]
  },
  {
   "cell_type": "markdown",
   "metadata": {
    "id": "gxUpjdOfM5WP"
   },
   "source": [
    "The Dummy classifier allows us to predict score that will achieved if the model always chose the most frequent emotion (joy) and compare the score with our actual model trained above. It can be noticed that the actual score is much greater (0,6335) than the most_frequent method (0.352)"
   ]
  },
  {
   "cell_type": "code",
   "execution_count": null,
   "metadata": {
    "colab": {
     "base_uri": "https://localhost:8080/"
    },
    "id": "F1-piG-zLY7L",
    "outputId": "bb8b9d46-5346-45ec-9398-feb6149496df"
   },
   "outputs": [],
   "source": [
    "from sklearn.dummy import DummyClassifier\n",
    "dummy_clf = DummyClassifier(strategy=\"most_frequent\")\n",
    "dummy_clf.fit(X_train, y_train)\n",
    "dummy_clf.score(X_valid, y_valid)"
   ]
  },
  {
   "cell_type": "markdown",
   "metadata": {
    "id": "HYIqMM1pNbfI"
   },
   "source": [
    "The confusion matrix is an effective way to visually represent the predictions made by the model and the errors of the model as well. Upon going through the confusion matrix it can be noticed that the model often got confused with love and surprising with joy and more often than not chose joy rather than the appropriate emotions."
   ]
  },
  {
   "cell_type": "code",
   "execution_count": null,
   "metadata": {
    "colab": {
     "base_uri": "https://localhost:8080/",
     "height": 564
    },
    "id": "gaQyQbIpLf5I",
    "outputId": "688cad45-3377-428a-89b3-f4c34c744b7a"
   },
   "outputs": [],
   "source": [
    "from sklearn.metrics import ConfusionMatrixDisplay, confusion_matrix\n",
    "def plot_confusion_matrix(y_preds, y_true, labels):\n",
    "  cm = confusion_matrix(y_true, y_preds, normalize=\"true\")\n",
    "  fig, ax = plt.subplots(figsize=(6, 6))\n",
    "  disp = ConfusionMatrixDisplay(confusion_matrix=cm, display_labels=labels)\n",
    "  disp.plot(cmap=\"Blues\", values_format=\".2f\", ax=ax, colorbar=False)\n",
    "  plt.title(\"Normalized confusion matrix\")\n",
    "  plt.show()\n",
    "y_preds = lr_clf.predict(X_valid)\n",
    "plot_confusion_matrix(y_preds, y_valid, labels)"
   ]
  }
 ],
 "metadata": {
  "colab": {
   "provenance": []
  },
  "kernelspec": {
   "display_name": "Python 3",
   "name": "python3"
  },
  "language_info": {
   "name": "python"
  }
 },
 "nbformat": 4,
 "nbformat_minor": 0
}
